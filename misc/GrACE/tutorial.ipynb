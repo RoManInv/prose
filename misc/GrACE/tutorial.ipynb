{
 "cells": [
  {
   "cell_type": "code",
   "execution_count": 1,
   "metadata": {},
   "outputs": [],
   "source": [
    "import json\n",
    "import os\n",
    "from src.dataset import AssociatedEditsDataset\n",
    "from tutorial_utils.printing import *\n",
    "from tutorial_utils.preprocessing import *\n",
    "from tutorial_utils.inference import *\n",
    "\n",
    "# Directory where the tutorial examples are stored\n",
    "BASE_DIR = \"tutorial_examples\"\n",
    "\n",
    "# Directory where the model weights are stored\n",
    "MODELS_BASE_DIR = \"Models\""
   ]
  },
  {
   "attachments": {},
   "cell_type": "markdown",
   "metadata": {},
   "source": [
    "# Tutorial on using Language Models and associated edits for smarter edit prediction\n",
    "\n",
    "This tutorial walks readers through the technique presented in our work and how it can be used in a practical setup. We assume the existence of the following actors:\n",
    "1. An end user who is actively editing code in an IDE\n",
    "2. A designer of an edit prediction tool that is / will be deployed in this IDE setup\n",
    "\n",
    "Ideally, the designer would already have a heuristic for identifying the target location where the edit needs to be predicted. This could be the location of the user's cursor or pre-identified code segments where the tool is triggered.\n",
    "\n",
    "The tutorial will now discuss how the designer can use our technique to predict edits that the end user would make. \n",
    "\n",
    "We would be working with a simple example to walk the readers through the process. Choose an example below to continue. "
   ]
  },
  {
   "cell_type": "code",
   "execution_count": 2,
   "metadata": {},
   "outputs": [
    {
     "name": "stdout",
     "output_type": "stream",
     "text": [
      "Running example: serialization_import\n"
     ]
    }
   ],
   "source": [
    "# Choose an example to run by uncommenting the corresponding EXAMPLE_DIR line below\n",
    "\n",
    "# Example 1 (maps to Illustrative Example in Section 2 of the paper)\n",
    "# Features: \n",
    "#   - Associated edits mined by Overwatch, not in the spatial vicinity of the target line.\n",
    "#   - Target edit requires insertion of a token (i.e. \"Serialization\") not present in the original code.\n",
    "EXAMPLE_DIR = \"serialization_import\"     # uncomment this line to run this example\n",
    "\n",
    "# Example 2 (maps to Figure 4 in Section 5.6 of the paper)\n",
    "# Features:\n",
    "#   - Associated edits from the spatial vicinity of the target line.\n",
    "#   - Target edit requires insertion of a token (i.e. \"NotFound\") not present in the original code.\n",
    "#   - Target edit requires Natural Language Understanding of the code to understand the context of the edit.\n",
    "# EXAMPLE_DIR = \"http_error_codes\"        # uncomment this line to run this example\n",
    "\n",
    "# Example 3 (maps to Figure 5 in Section 5.6 of the paper)\n",
    "# Features:\n",
    "#   - Associated edits mined by Overwatch, in the spatial vicinity of the target line.\n",
    "#   - Target edit requires insertion of a token (i.e. \"Input\") not present in the original code.\n",
    "#   - Target edit requires understanding of spatial context.\n",
    "# EXAMPLE_DIR = \"ex_input\"        # uncomment this line to run this example\n",
    "\n",
    "print(\"Running example:\", EXAMPLE_DIR)"
   ]
  },
  {
   "attachments": {},
   "cell_type": "markdown",
   "metadata": {},
   "source": [
    "Run the cell below to load the necessary files for the example. "
   ]
  },
  {
   "cell_type": "code",
   "execution_count": 3,
   "metadata": {},
   "outputs": [],
   "source": [
    "# load necessary files for the example\n",
    "\n",
    "v0_file_path = os.path.join(BASE_DIR, EXAMPLE_DIR, \"v0.cs\")\n",
    "v1_file_path = os.path.join(BASE_DIR, EXAMPLE_DIR, \"v1.cs\")\n",
    "v2_file_path = os.path.join(BASE_DIR, EXAMPLE_DIR, \"v2.cs\")\n",
    "\n",
    "# Metadata about the editing intent and the target line\n",
    "editing_intents_file_path = os.path.join(BASE_DIR, EXAMPLE_DIR, \"editing_intent.json\")\n",
    "with open(editing_intents_file_path, 'r') as f:\n",
    "    editing_intents = json.load(f)\n",
    "\n",
    "v0_v1_intent = editing_intents['v0_v1'][\"intent\"]\n",
    "v0_v1_edit_type = editing_intents['v0_v1'][\"editType\"]\n",
    "v0_v1_line = editing_intents['v0_v1'][\"lineNumber\"]\n",
    "\n",
    "v1_v2_intent = editing_intents['v1_v2'][\"intent\"]\n",
    "v1_v2_edit_type = editing_intents['v1_v2'][\"editType\"]\n",
    "v1_v2_line = editing_intents['v1_v2'][\"lineNumber\"]"
   ]
  },
  {
   "attachments": {},
   "cell_type": "markdown",
   "metadata": {},
   "source": [
    "Run the cell below to see the initial contents of the file (we'll call this version `v0`)."
   ]
  },
  {
   "cell_type": "code",
   "execution_count": 4,
   "metadata": {},
   "outputs": [
    {
     "name": "stdout",
     "output_type": "stream",
     "text": [
      "v0:\n",
      "0      using Newtonsoft.Json;\n",
      "1      using System;\n",
      "2      using System.Collections.Generic;\n",
      "3      using System.IO;\n",
      "4      using System.Linq;\n",
      "5      using System.Text;\n",
      "6      using System.Threading.Tasks;\n",
      "7      \n",
      "8      namespace Example\n",
      "9      {\n",
      "10          /// <summary>\n",
      "11          /// Helper API to the OpenAI API.\n",
      "12          /// </summary>\n",
      "13          public static class OpenAI\n",
      "14          {\n",
      "15              /// <summary>\n",
      "16              /// Complete the prompt using the specified parameters. Any non-specified parameters will fall back to default values specified in <see cref=\"DefaultCompletionRequestArgs\"/>.\n",
      "17              /// </summary>\n",
      "18              /// <returns>Returns a new instance of the object read from the binary file.</returns>\n",
      "19                  private static T ReadFromBinaryFile<T>(string filePath) {\n",
      "20                      using (Stream stream = File.Open(filePath, FileMode.Open)) {\n",
      "21                          try {\n",
      "22                              var binaryFormatter = new System.Runtime.Serialization.Formatters.Binary.BinaryFormatter();\n",
      "23                              return (T) binaryFormatter.Deserialize(stream);\n",
      "24                          }\n",
      "25                          catch(Exception){\n",
      "26                              throw();\n",
      "27                          }\n",
      "28                      }\n",
      "29                  }\n",
      "30          }\n",
      "31      }\n"
     ]
    }
   ],
   "source": [
    "# print contents of v0 of handleErrors.cs\n",
    "\n",
    "v0_file_lines = get_file_contents(v0_file_path)\n",
    "\n",
    "print(\"v0:\")\n",
    "print_code(v0_file_lines)"
   ]
  },
  {
   "attachments": {},
   "cell_type": "markdown",
   "metadata": {},
   "source": [
    "Run the cell below to see what the user intends to do in the first edit. We call this edit from `v0` to `v1` an *associated edit*."
   ]
  },
  {
   "cell_type": "code",
   "execution_count": 5,
   "metadata": {},
   "outputs": [
    {
     "name": "stdout",
     "output_type": "stream",
     "text": [
      "User's intent for v0 -> v1:\n",
      "The user intends to add a SerializationException. They start by replacing Exception on line 25 with SerializationException.\n"
     ]
    }
   ],
   "source": [
    "print(\"User's intent for v0 -> v1:\")\n",
    "print(v0_v1_intent)"
   ]
  },
  {
   "attachments": {},
   "cell_type": "markdown",
   "metadata": {},
   "source": [
    "Run the cell below to see the new version of the file (`v1`) and it's diff with v0."
   ]
  },
  {
   "cell_type": "code",
   "execution_count": 6,
   "metadata": {},
   "outputs": [
    {
     "name": "stdout",
     "output_type": "stream",
     "text": [
      "v1:\n",
      "0      using Newtonsoft.Json;\n",
      "1      using System;\n",
      "2      using System.Collections.Generic;\n",
      "3      using System.IO;\n",
      "4      using System.Linq;\n",
      "5      using System.Text;\n",
      "6      using System.Threading.Tasks;\n",
      "7      \n",
      "8      namespace Example\n",
      "9      {\n",
      "10          /// <summary>\n",
      "11          /// Helper API to the OpenAI API.\n",
      "12          /// </summary>\n",
      "13          public static class OpenAI\n",
      "14          {\n",
      "15              /// <summary>\n",
      "16              /// Complete the prompt using the specified parameters. Any non-specified parameters will fall back to default values specified in <see cref=\"DefaultCompletionRequestArgs\"/>.\n",
      "17              /// </summary>\n",
      "18              /// <returns>Returns a new instance of the object read from the binary file.</returns>\n",
      "19                  private static T ReadFromBinaryFile<T>(string filePath) {\n",
      "20                      using (Stream stream = File.Open(filePath, FileMode.Open)) {\n",
      "21                          try {\n",
      "22                              var binaryFormatter = new System.Runtime.Serialization.Formatters.Binary.BinaryFormatter();\n",
      "23                              return (T) binaryFormatter.Deserialize(stream);\n",
      "24                          }\n",
      "25                          catch(SerializationException){\n",
      "26                              throw();\n",
      "27                          }\n",
      "28                      }\n",
      "29                  }\n",
      "30          }\n",
      "31      }\n"
     ]
    }
   ],
   "source": [
    "# v1\n",
    "v1_file_lines = get_file_contents(v1_file_path)\n",
    "\n",
    "print(\"v1:\")\n",
    "print_code(v1_file_lines)"
   ]
  },
  {
   "cell_type": "code",
   "execution_count": 7,
   "metadata": {},
   "outputs": [
    {
     "name": "stdout",
     "output_type": "stream",
     "text": [
      "v0 and v1 diff:\n",
      "\u001b[1;31m--- v0\u001b[0m\n",
      "\u001b[1;32m+++ v1\u001b[0m\n",
      "@@ -23,7 +23,7 @@\n",
      "                         var binaryFormatter = new System.Runtime.Serialization.Formatters.Binary.BinaryFormatter();\n",
      "\n",
      "                         return (T) binaryFormatter.Deserialize(stream);\n",
      "\n",
      "                     }\n",
      "\n",
      "\u001b[1;31m-                    catch(Exception){\n",
      "\u001b[0m\n",
      "\u001b[1;32m+                    catch(SerializationException){\n",
      "\u001b[0m\n",
      "                         throw();\n",
      "\n",
      "                     }\n",
      "\n",
      "                 }\n",
      "\n"
     ]
    }
   ],
   "source": [
    "# highlight the diff between v0 and v1\n",
    "print(\"v0 and v1 diff:\")\n",
    "print_diff(v0_file_lines, v1_file_lines, fromfile='v0', tofile='v1')"
   ]
  },
  {
   "attachments": {},
   "cell_type": "markdown",
   "metadata": {},
   "source": [
    "Run the cell below to see how the user now intends to edit `v1`."
   ]
  },
  {
   "cell_type": "code",
   "execution_count": 8,
   "metadata": {},
   "outputs": [
    {
     "name": "stdout",
     "output_type": "stream",
     "text": [
      "User's intent for v1 -> v2:\n",
      "The user then moves their cursor to line 6 with an intent to import the Serialization namespace.\n"
     ]
    }
   ],
   "source": [
    "print(\"User's intent for v1 -> v2:\")\n",
    "print(v1_v2_intent)"
   ]
  },
  {
   "attachments": {},
   "cell_type": "markdown",
   "metadata": {},
   "source": [
    "The task of the edit prediction tool is to predict this intended change. The edit from `v1` to `v2` is hence called the *target edit*.\n",
    "\n",
    "Run the cell below to see the target line of code in `v1`."
   ]
  },
  {
   "cell_type": "code",
   "execution_count": 9,
   "metadata": {},
   "outputs": [
    {
     "name": "stdout",
     "output_type": "stream",
     "text": [
      "Target in v1:\n",
      "0     using Newtonsoft.Json;\n",
      "1     using System;\n",
      "2     using System.Collections.Generic;\n",
      "3     using System.IO;\n",
      "4     using System.Linq;\n",
      "5     using System.Text;\n",
      "6     \u001b[1;31m|\u001b[0m\n",
      "7     using System.Threading.Tasks;\n",
      "8     \n",
      "9     namespace Example\n",
      "10     {\n",
      "11         /// <summary>\n",
      "12         /// Helper API to the OpenAI API.\n",
      "13         /// </summary>\n",
      "14         public static class OpenAI\n",
      "15         {\n",
      "16             /// <summary>\n",
      "17             /// Complete the prompt using the specified parameters. Any non-specified parameters will fall back to default values specified in <see cref=\"DefaultCompletionRequestArgs\"/>.\n",
      "18             /// </summary>\n",
      "19             /// <returns>Returns a new instance of the object read from the binary file.</returns>\n",
      "20                 private static T ReadFromBinaryFile<T>(string filePath) {\n",
      "21                     using (Stream stream = File.Open(filePath, FileMode.Open)) {\n",
      "22                         try {\n",
      "23                             var binaryFormatter = new System.Runtime.Serialization.Formatters.Binary.BinaryFormatter();\n",
      "24                             return (T) binaryFormatter.Deserialize(stream);\n",
      "25                         }\n",
      "26                         catch(SerializationException){\n",
      "27                             throw();\n",
      "28                         }\n",
      "29                     }\n",
      "30                 }\n",
      "31         }\n",
      "32     }\n"
     ]
    }
   ],
   "source": [
    "# highlight target line in v1\n",
    "\n",
    "# check if the cursor has moved to a new line (proxy: edit type is insert)\n",
    "cursor_moved_to_new_line = v1_v2_edit_type == \"insert\"\n",
    "\n",
    "print(\"Target in v1:\")\n",
    "highlight_lines(v1_file_lines, [v1_v2_line], cursor_moved_to_new_line)"
   ]
  },
  {
   "cell_type": "code",
   "execution_count": 10,
   "metadata": {},
   "outputs": [
    {
     "name": "stdout",
     "output_type": "stream",
     "text": [
      "Expected edit:\n",
      "\u001b[1;31m--- v1\u001b[0m\n",
      "\u001b[1;32m+++ v2\u001b[0m\n",
      "@@ -3,6 +3,7 @@\n",
      " using System.Collections.Generic;\n",
      "\n",
      " using System.IO;\n",
      "\n",
      " using System.Linq;\n",
      "\n",
      "\u001b[1;32m+using System.Runtime.Serialization;\n",
      "\u001b[0m\n",
      " using System.Text;\n",
      "\n",
      " using System.Threading.Tasks;\n",
      "\n",
      " \n",
      "\n"
     ]
    }
   ],
   "source": [
    "# load v2 and highlight diff\n",
    "\n",
    "v2_file_lines = get_file_contents(v2_file_path)\n",
    "\n",
    "print(\"Expected edit:\")\n",
    "print_diff(v1_file_lines, v2_file_lines, fromfile='v1', tofile='v2')"
   ]
  },
  {
   "attachments": {},
   "cell_type": "markdown",
   "metadata": {},
   "source": [
    "We now discuss how our technique can be used for predicting this target edit."
   ]
  },
  {
   "attachments": {},
   "cell_type": "markdown",
   "metadata": {},
   "source": [
    "## Step 1: Mining and processing associated edits\n",
    "\n",
    "Any edit mining technique can be used to fetch a list of edits that are relevant to the user's target code location (called associated edits in our work). For example, Overwatch can be used to extract temporally relevant edits that represent common editing patterns in an IDE. On the other hand, a simpler heuristic for predicting local edits could be to use edits in the spatial vicinity of the target code location.\n",
    "\n",
    "We leave the choice of the associated edit mining technique to the designer. The examples in this tutorial are from the C3PO and Overwatch papers where the associated edits have been mined from the spatial and temporal vicinities respectively. For this demonstration, we consider the edit from `v0` to `v1` as the *associated edit*.\n",
    "\n",
    "Once these associated edits have been identified, we can proceed to collect and process them. Here are the steps we follow:\n",
    "- Step 1: Collect the associated edits at a line-level granularity. Hence the lines edited from `v0` to `v1` are collected. Ignore any edits with whitespace changes.\n",
    "- Step 2: Collect the spatial context around the associated edits. We collect 5 lines of code preceeding and following the associated edits at `v1`.\n",
    "- Step 3: Collect the spatial context around the target line. We collect 8 lines of code preceeding and following the target line at `v1`.  \n",
    "\n",
    "This information is then represented in the following format:\n",
    "\n",
    "```\n",
    "{\n",
    "    \"AssociatedEdits\": [\n",
    "        {\n",
    "            \"Prefix\": ...\n",
    "            \"Before\": ...\n",
    "            \"After\": ...\n",
    "            \"Suffix\": ...\n",
    "        },\n",
    "        ...\n",
    "    ],\n",
    "    \"Current\": {\n",
    "        \"Prefix\": ...\n",
    "        \"Before\": ...\n",
    "        \"After\": ...\n",
    "        \"Suffix\": ...\n",
    "    }\n",
    "}\n",
    "```\n",
    "\n",
    "The `Prefix` and `Suffix` fields are optional but highly recommended to collect the spatial code context surrounding the edits (say, +/- 5 lines of code as discussed above). Note that the `After` field of `Current` is only used for evaluation and would not be available in practice.\n",
    "\n",
    "Run the cell below to see how the JSON of the working example looks like after processing."
   ]
  },
  {
   "cell_type": "code",
   "execution_count": 11,
   "metadata": {},
   "outputs": [
    {
     "name": "stdout",
     "output_type": "stream",
     "text": [
      "Processed example content:\n",
      "{\n",
      "    \"AssociatedEdits\": [\n",
      "        {\n",
      "            \"prefix\": \"                using (Stream stream = File.Open(filePath, FileMode.Open)) {\\n                    try {\\n                        var binaryFormatter = new System.Runtime.Serialization.Formatters.Binary.BinaryFormatter();\\n                        return (T) binaryFormatter.Deserialize(stream);\\n                    }\",\n",
      "            \"before\": \"                    catch(Exception){\",\n",
      "            \"after\": \"                    catch(SerializationException){\",\n",
      "            \"suffix\": \"                        throw();\\n                    }\\n                }\\n            }\\n    }\"\n",
      "        }\n",
      "    ],\n",
      "    \"Current\": {\n",
      "        \"prefix\": \"using Newtonsoft.Json;\\nusing System;\\nusing System.Collections.Generic;\\nusing System.IO;\\nusing System.Linq;\",\n",
      "        \"before\": \"\",\n",
      "        \"after\": \"using System.Runtime.Serialization;\",\n",
      "        \"suffix\": \"using System.Threading.Tasks;\\n\\nnamespace Example\\n{\\n    /// <summary>\\n    /// Helper API to the OpenAI API.\\n    /// </summary>\\n    public static class OpenAI\"\n",
      "    }\n",
      "}\n"
     ]
    }
   ],
   "source": [
    "# Step 1: Collect the associated edit\n",
    "v0_v1_diff = get_diff_chunks(v0_file_lines, v1_file_lines)[0]\n",
    "\n",
    "# Step 2: Get spatial context around the associated edit (i.e. the prefix and suffix)\n",
    "v0_v1_prefix = get_prefix(v1_file_lines, v0_v1_line, num_lines_in_context=5)\n",
    "v0_v1_suffix = get_suffix(v1_file_lines, v0_v1_line, num_lines_in_context=5)\n",
    "\n",
    "# Step 3: Get the target edit + spatial context\n",
    "v1_v2_diff = get_diff_chunks(v1_file_lines, v2_file_lines)[0]\n",
    "v1_v2_prefix = get_prefix(v1_file_lines, v1_v2_line, num_lines_in_context=8)\n",
    "v1_v2_suffix = get_suffix(v1_file_lines, v1_v2_line, num_lines_in_context=8)\n",
    "\n",
    "processed_example_content = {\n",
    "    \"AssociatedEdits\": [\n",
    "        # We just consider one associated edit for this tutorial (v0 -> v1)\n",
    "        {\n",
    "            \"prefix\": v0_v1_prefix,\n",
    "            \"before\": v0_v1_diff[\"before\"],\n",
    "            \"after\": v0_v1_diff[\"after\"],\n",
    "            \"suffix\": v0_v1_suffix,\n",
    "        }\n",
    "    ],\n",
    "    # The target edit from v1 -> v2\n",
    "    \"Current\": {\n",
    "        \"prefix\": v1_v2_prefix,\n",
    "        \"before\": v1_v2_diff[\"before\"],\n",
    "        \"after\": v1_v2_diff[\"after\"],\n",
    "        \"suffix\": v1_v2_suffix,\n",
    "    },\n",
    "}\n",
    "\n",
    "# print processed_example_content\n",
    "print(\"Processed example content:\")\n",
    "print(json.dumps(processed_example_content, indent=4))"
   ]
  },
  {
   "cell_type": "code",
   "execution_count": 12,
   "metadata": {},
   "outputs": [
    {
     "name": "stdout",
     "output_type": "stream",
     "text": [
      "Saved processed example to: tutorial_examples\\serialization_import\\processed_example.json\n"
     ]
    }
   ],
   "source": [
    "# save this example in a json file for later use\n",
    "\n",
    "PROCESSED_EXAMPLE_JSON_FILE_PATH = os.path.join(BASE_DIR, EXAMPLE_DIR, \"processed_example.json\")\n",
    "save_processed_example_json(processed_example_content, PROCESSED_EXAMPLE_JSON_FILE_PATH, id=EXAMPLE_DIR)"
   ]
  },
  {
   "attachments": {},
   "cell_type": "markdown",
   "metadata": {},
   "source": [
    "## Step 2: Prompt generation\n",
    "\n",
    "Once the edits have been processed, we generate a textual prompt that can then be sent to a Language Model. We follow an XML-style format for presenting the information as follows:\n",
    "\n",
    "```\n",
    "<CurrentEdit>\n",
    "    <Prefix> . . . </Prefix>\n",
    "    <Before> . . . </Before>\n",
    "    <After> [INSERT] </After>\n",
    "    <Suffix> . . . </Suffix>\n",
    "</CurrentEdit>\n",
    "<CtxEdits>\n",
    "    <Edit>\n",
    "        <Prefix> . . . </Prefix>\n",
    "        <Before> . . . </Before>\n",
    "        <After>  . . . </After>\n",
    "        <Suffix> . . . </Suffix>\n",
    "    </Edit>\n",
    "    <Edit>\n",
    "        . . . \n",
    "    </Edit>\n",
    "    . . .\n",
    "</CtxEdits>\n",
    "```\n",
    "\n",
    "Note that we use an infilling/insertion model that can use special tokens to represent holes where the final version of the target code would be generated. The `[INSERT]` token represents this special token here.\n",
    "\n",
    "Run the cell below to see how the prompt looks for the working example."
   ]
  },
  {
   "cell_type": "code",
   "execution_count": 13,
   "metadata": {},
   "outputs": [
    {
     "name": "stdout",
     "output_type": "stream",
     "text": [
      "Working example prompt:\n",
      "<edit>\n",
      "<prefix>\n",
      "using Newtonsoft.Json;\n",
      "using System;\n",
      "using System.Collections.Generic;\n",
      "using System.IO;\n",
      "using System.Linq;\n",
      "</prefix><before>\n",
      "\n",
      "</before>\n",
      "<after>\n",
      "\n",
      "[INSERT]\n",
      "\n",
      "</after>\n",
      "<suffix>\n",
      "using System.Threading.Tasks;\n",
      "\n",
      "namespace Example\n",
      "{\n",
      "    /// <summary>\n",
      "    /// Helper API to the OpenAI API.\n",
      "    /// </summary>\n",
      "    public static class OpenAI\n",
      "</suffix>\n",
      "</edit><ctxEdits><edit>\n",
      "<prefix>\n",
      "                using (Stream stream = File.Open(filePath, FileMode.Open)) {\n",
      "                    try {\n",
      "                        var binaryFormatter = new System.Runtime.Serialization.Formatters.Binary.BinaryFormatter();\n",
      "                        return (T) binaryFormatter.Deserialize(stream);\n",
      "                    }\n",
      "</prefix>\n",
      "<before>\n",
      "                    catch(Exception){\n",
      "</before>\n",
      "<after>\n",
      "                    catch(SerializationException){\n",
      "</after>\n",
      "<suffix>\n",
      "                        throw();\n",
      "                    }\n",
      "                }\n",
      "            }\n",
      "    }\n",
      "</suffix></edit></ctxEdits>\n"
     ]
    }
   ],
   "source": [
    "processed_sample = AssociatedEditsDataset(json_addr=PROCESSED_EXAMPLE_JSON_FILE_PATH)[0]\n",
    "print(\"Working example prompt:\")\n",
    "print(processed_sample[\"Spctx\"])\n",
    "print(\"[INSERT]\")\n",
    "print(processed_sample[\"FutureCtx\"])"
   ]
  },
  {
   "attachments": {},
   "cell_type": "markdown",
   "metadata": {},
   "source": [
    "## Step 3: Generating the edit\n",
    "\n",
    "Now that the prompt has been generated, we use it as an input to a Language Model. Given that OpenAI models like `code-davinci-002` can only be accessed via API keys, we use our trained CodeT5 models in this tutorial. In practice, the designer of the edit prediction tool can choose to any of these models (or even train another smaller LLM for their choice of associated edits).\n",
    "\n",
    "Run the cell below to load the CodeT5 model and tokenizer. "
   ]
  },
  {
   "cell_type": "code",
   "execution_count": 14,
   "metadata": {},
   "outputs": [
    {
     "name": "stdout",
     "output_type": "stream",
     "text": [
      "Loaded config from model path:  Models\\codet5-c3po-unfiltered-further-finetuned-c3po-filtered\n",
      "Loaded tokenizer from model path:  Models\\codet5-c3po-unfiltered-further-finetuned-c3po-filtered\n",
      "Loaded model from model path:  Models\\codet5-c3po-unfiltered-further-finetuned-c3po-filtered\n"
     ]
    }
   ],
   "source": [
    "MODEL_DIR = r\"codet5-c3po-unfiltered-further-finetuned-c3po-filtered\"\n",
    "MAX_SEQ_LENGTH = 1024\n",
    "\n",
    "MODEL_PATH = os.path.join(MODELS_BASE_DIR, MODEL_DIR)\n",
    "\n",
    "model, tokenizer = get_model_tokenizer_from_path(MODEL_PATH, MAX_SEQ_LENGTH)"
   ]
  },
  {
   "attachments": {},
   "cell_type": "markdown",
   "metadata": {},
   "source": [
    "Run the cell below to generate top 5 predictions using the CodeT5 model."
   ]
  },
  {
   "cell_type": "code",
   "execution_count": 15,
   "metadata": {},
   "outputs": [],
   "source": [
    "top5_predictions = get_topK_predictions(model, tokenizer, processed_sample, MAX_SEQ_LENGTH, topK = 5)"
   ]
  },
  {
   "attachments": {},
   "cell_type": "markdown",
   "metadata": {},
   "source": [
    "Run the cells below to see the output generated by the CodeT5 model and how it compares with the expected output."
   ]
  },
  {
   "cell_type": "code",
   "execution_count": 16,
   "metadata": {},
   "outputs": [
    {
     "name": "stdout",
     "output_type": "stream",
     "text": [
      "Expected output:\n",
      "using System.Runtime.Serialization;\n"
     ]
    }
   ],
   "source": [
    "print(\"Expected output:\")\n",
    "print(processed_sample[\"ExpectedText\"])"
   ]
  },
  {
   "cell_type": "code",
   "execution_count": 17,
   "metadata": {},
   "outputs": [
    {
     "name": "stdout",
     "output_type": "stream",
     "text": [
      "Prediction 1:\n",
      " using System.Runtime.Serialization;\n",
      "\n",
      "Prediction 2:\n",
      " using System.Runtime.Serialization;\n",
      "\n",
      "Prediction 3:\n",
      " using System.Runtime.Serialization;\n",
      "\n",
      "Prediction 4:\n",
      " using System.Runtime.Serialization;\n",
      "\n",
      "Prediction 5:\n",
      " using System.Runtime.Serialization.Formatters.Binary;\n",
      "\n"
     ]
    }
   ],
   "source": [
    "print_topK_predictions(top5_predictions)"
   ]
  },
  {
   "attachments": {},
   "cell_type": "markdown",
   "metadata": {},
   "source": [
    "These predictions can now be shown as suggestions to the end user.\n",
    "\n",
    "Please feel free to run this tutorial with other examples in the `Examples` directory. You can also run a new example by following these steps:\n",
    "- Create a new directory within `tutorial_examples` (BASE_DIR) and add three file versions (`v0.cs`, `v1.cs`, `v2.cs`)\n",
    "- The associated edit would be the transition from `v0` to `v1` and the target edit should be transition from `v1` to `v2`.\n",
    "- Add another file called `editing_intent.json` to this new directory. This file should contain the line numbers corresponding to the edits. The line numbers would be used a proxies to the cursor location of the user. Please refer to one of the example `editing_intent.json` files for the format.\n",
    "- Start the notebook with `EXAMPLE_DIR` set to the new directory. You are now ready to run the new example!"
   ]
  },
  {
   "attachments": {},
   "cell_type": "markdown",
   "metadata": {},
   "source": [
    "Note that this notebook reflects a very simple IDE simulation. In practice, \n",
    "- There can multiple associated edits (as opposed to one edit used in the examples)\n",
    "- Multiple lines can be edited in the context and the target (only single-line edits are demonstrated using the examples)\n",
    "- There can be several intermediate edits that an edit mining engine like Overwatch may skip (we here show examples where the target edit temporally follows the associated edit).\n",
    "\n",
    "Thank you for going through this tutorial notebook. We hope that this tutorial helped provide a simple simulation of how our approach can be used in an edit prediction tool."
   ]
  }
 ],
 "metadata": {
  "kernelspec": {
   "display_name": "Python 3",
   "language": "python",
   "name": "python3"
  },
  "language_info": {
   "codemirror_mode": {
    "name": "ipython",
    "version": 3
   },
   "file_extension": ".py",
   "mimetype": "text/x-python",
   "name": "python",
   "nbconvert_exporter": "python",
   "pygments_lexer": "ipython3",
   "version": "3.9.7"
  },
  "orig_nbformat": 4
 },
 "nbformat": 4,
 "nbformat_minor": 2
}
