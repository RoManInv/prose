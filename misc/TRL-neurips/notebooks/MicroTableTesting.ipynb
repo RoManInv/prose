{
  "cells": [
    {
      "cell_type": "code",
      "execution_count": null,
      "metadata": {},
      "outputs": [],
      "source": [
        "%cd ../code_"
      ]
    },
    {
      "cell_type": "code",
      "execution_count": null,
      "metadata": {
        "gather": {
          "logged": 1694699855951
        }
      },
      "outputs": [],
      "source": [
        "from tableTestingMicroScript import *\n",
        "import pandas as pd\n",
        "import os\n",
        "import ast\n",
        "from utils import num_tokens_from_string"
      ]
    },
    {
      "cell_type": "code",
      "execution_count": null,
      "metadata": {},
      "outputs": [],
      "source": [
        "from prompts import EXAMPLES, EXAMPLE_Dictionary\n",
        "import pandas as pd\n",
        "from utils import num_tokens_from_string\n",
        "\n",
        "\n",
        "def gather_Examples_Prompt(tab_format, test_case):\n",
        "\n",
        "    TF, TC = tab_format.__class__.__name__, test_case\n",
        "    Examples = EXAMPLES.replace(\"[Data_format_example1]\", EXAMPLE_Dictionary[f\"TF_EX1_{TF}\"])\\\n",
        "        .replace(\"[QA1]\", EXAMPLE_Dictionary[f\"Ex1_QA1_{TC}\"])\\\n",
        "        .replace(\"[Data_format_example2]\", EXAMPLE_Dictionary[f\"TF_EX1_{TF}\"])\\\n",
        "        .replace(\"[QA2]\", EXAMPLE_Dictionary[f\"Ex1_QA2_{TC}\"])\n",
        "    return Examples\n",
        "\n",
        "\n",
        "def get_max_no_of_rows_feedable(df, FormatFunction, Micro=True):\n",
        "\n",
        "    per_test = []\n",
        "    test_case = [\"NavigationTests\", \"ColumnLookupTests\",\n",
        "                 \"RowLookupTests\", \"DataTypeLookupTests\"]\n",
        "\n",
        "    for tt in test_case:\n",
        "        exp = gather_Examples_Prompt(FormatFunction, tt)\n",
        "\n",
        "        for i in range(min(df.shape[0], 100), 2, -1):\n",
        "            if Micro:\n",
        "                total_token = 30 + num_tokens_from_string(exp)+11+num_tokens_from_string(\n",
        "                    str(FormatFunction.formatting(df.head(i))))+100\n",
        "            else:\n",
        "                total_token = 100 + num_tokens_from_string(exp)+11+num_tokens_from_string(\n",
        "                    str(FormatFunction.formatting(df.head(i))))*2.5\n",
        "\n",
        "            if total_token < 4081:\n",
        "\n",
        "                per_test.append(i)\n",
        "                break\n",
        "    return (min(per_test))"
      ]
    },
    {
      "cell_type": "code",
      "execution_count": null,
      "metadata": {
        "gather": {
          "logged": 1694736239538
        }
      },
      "outputs": [],
      "source": [
        "\n",
        "benchmark_data_path = \"../BenchmarkDatasetClean\"\n",
        "benchmark_dataset = [f for f in os.listdir(\n",
        "    benchmark_data_path) if f.endswith(\".csv\")]\n",
        "benchmark_save_path = \"../BenchmarkResults_Micro_tests/\"\n",
        "if not os.path.exists(benchmark_save_path):\n",
        "    os.makedirs(benchmark_save_path)\n",
        "open_api_key = os.env(\"OPENAI_API_KEY\")\n",
        "for bd in benchmark_dataset:\n",
        "    print(bd)\n",
        "    df = pd.read_csv(os.path.join(benchmark_data_path, bd))\n",
        "    save_path = os.path.join(benchmark_save_path, bd)\n",
        "    if not os.path.exists(save_path):\n",
        "        os.makedirs(save_path)\n",
        "\n",
        "    table_formats = [HTMLFormat(), HTMLNoSpaceFormat(), MarkdownFormat(), JsonFormat(\n",
        "    ), DataMatrixFormat(), DFloaderFormat(), TabSeparatedFormat(), CommaSeparatedFormat()],\n",
        "    max_rows = min([get_max_no_of_rows_feedable(df, format)\n",
        "                   for format in table_formats])\n",
        "\n",
        "    df = df.head(max_rows)\n",
        "    print(df.shape)\n",
        "    suite = TableExperimentSuite(LLMTableLearner(),\n",
        "                                 [HTMLFormat(), HTMLNoSpaceFormat(), MarkdownFormat(), JsonFormat(), DataMatrixFormat(\n",
        "                                 ), DFloaderFormat(), TabSeparatedFormat(), CommaSeparatedFormat()],\n",
        "                                 [ArbitraryColumnNames(),\n",
        "                                  ShuffleRows(),\n",
        "                                  TransposeTable(),\n",
        "                                  ColumnCluster(),\n",
        "                                  SerializeTable(),\n",
        "                                  ShuffleColumns(),\n",
        "                                  ShuffleColumnNames(),\n",
        "                                  OriginalData(),\n",
        "                                  SequentialColumnNames()\n",
        "                                  ],\n",
        "                                 [NavigationTests(), ColumnLookupTests(),\n",
        "                                  RowLookupTests(), DataTypeLookupTests()],\n",
        "                                 save_path, open_api_key)\n",
        "    output = suite.run_experiment(df, per_table_op=10, per_test_gen=10)\n",
        "    col_names = [\"temperature\", \"tableFormat\", \"TableManipulation\", \"TestCase\", \"TestQuestion\", \"TestExpectedAnswer\", \"TestCaseType\",\n",
        "                 \"pass_1\", \"pass_3\", \"pass_5\", \"pass_10\", \"pass_15\", \"TestCaseTuple\", \"Answers_top_15\", \"Answer_top_1\", \"Result\", \"Error\"]\n",
        "    output_df = pd.DataFrame(output, columns=col_names)\n",
        "    output_df.to_csv(os.path.join(\n",
        "        save_path, f\"Micro_{bd}_output.csv\"), index=None)\n",
        "    try:\n",
        "        output_df.to_pickle(os.path.join(\n",
        "            save_path, f\"Micro_{bd}_output.pkl\"), index=None)\n",
        "    except:\n",
        "        pass"
      ]
    }
  ],
  "metadata": {
    "kernel_info": {
      "name": "python38-azureml"
    },
    "kernelspec": {
      "display_name": "env",
      "language": "python",
      "name": "python3"
    },
    "language_info": {
      "codemirror_mode": {
        "name": "ipython",
        "version": 3
      },
      "file_extension": ".py",
      "mimetype": "text/x-python",
      "name": "python",
      "nbconvert_exporter": "python",
      "pygments_lexer": "ipython3",
      "version": "3.11.5"
    },
    "microsoft": {
      "ms_spell_check": {
        "ms_spell_check_language": "en"
      }
    },
    "nteract": {
      "version": "nteract-front-end@1.0.0"
    },
    "orig_nbformat": 4
  },
  "nbformat": 4,
  "nbformat_minor": 2
}
